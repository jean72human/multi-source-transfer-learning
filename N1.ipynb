{
 "cells": [
  {
   "cell_type": "code",
   "execution_count": 1,
   "metadata": {},
   "outputs": [],
   "source": [
    "# N1 : Rice dataset"
   ]
  },
  {
   "cell_type": "code",
   "execution_count": 1,
   "metadata": {},
   "outputs": [],
   "source": [
    "## imports\n",
    "import os\n",
    "import numpy as np\n",
    "import torch\n",
    "import torchvision\n",
    "from torchvision import datasets, models, transforms\n",
    "import matplotlib.pyplot as plt\n",
    "%matplotlib inline"
   ]
  },
  {
   "cell_type": "code",
   "execution_count": 2,
   "metadata": {},
   "outputs": [
    {
     "name": "stdout",
     "output_type": "stream",
     "text": [
      "CUDA is available!  Training on GPU ...\n"
     ]
    }
   ],
   "source": [
    "# check if CUDA is available\n",
    "train_on_gpu = torch.cuda.is_available()\n",
    "device = 'cpu'\n",
    "if not train_on_gpu:\n",
    "    print('CUDA is not available.  Training on CPU ...')\n",
    "else:\n",
    "    print('CUDA is available!  Training on GPU ...')\n",
    "    device = 'cuda'"
   ]
  },
  {
   "cell_type": "code",
   "execution_count": 3,
   "metadata": {},
   "outputs": [],
   "source": [
    "data_transform =  transforms.Compose([\n",
    "    transforms.Resize(256),\n",
    "    transforms.CenterCrop(224),\n",
    "    transforms.ToTensor(),\n",
    "    transforms.Normalize([0.485, 0.456, 0.406], [0.229, 0.224, 0.225])\n",
    "])"
   ]
  },
  {
   "cell_type": "code",
   "execution_count": 4,
   "metadata": {},
   "outputs": [
    {
     "name": "stdout",
     "output_type": "stream",
     "text": [
      "428 images\n"
     ]
    }
   ],
   "source": [
    "\n",
    "\n",
    "data_dir = '/floyd/input/rice_dataset/'\n",
    "batch_size = 100\n",
    "num_workers = 0\n",
    "\n",
    "\n",
    "train_data = datasets.ImageFolder(\n",
    "        data_dir+'training_data', \n",
    "        transform=data_transform)\n",
    "\n",
    "test_data = datasets.ImageFolder(\n",
    "        data_dir+'test_data', \n",
    "        transform=data_transform)\n",
    "\n",
    "\n",
    "print(len(train_data)+len(test_data),\"images\")\n",
    "# prepare data loaders\n",
    "train_loader = torch.utils.data.DataLoader(train_data, batch_size=batch_size, \n",
    "                                           num_workers=num_workers, shuffle=True)\n",
    "test_loader = torch.utils.data.DataLoader(test_data, batch_size=batch_size, \n",
    "                                          num_workers=num_workers, shuffle=True)\n",
    "\n"
   ]
  },
  {
   "cell_type": "code",
   "execution_count": 5,
   "metadata": {},
   "outputs": [],
   "source": [
    "model = models.vgg19(pretrained=False)\n",
    "#print(model)"
   ]
  },
  {
   "cell_type": "code",
   "execution_count": 6,
   "metadata": {},
   "outputs": [
    {
     "data": {
      "text/plain": [
       "Sequential(\n",
       "  (0): Linear(in_features=25088, out_features=4096, bias=True)\n",
       "  (1): ReLU(inplace)\n",
       "  (2): Dropout(p=0.5)\n",
       "  (3): Linear(in_features=4096, out_features=4096, bias=True)\n",
       "  (4): ReLU(inplace)\n",
       "  (5): Dropout(p=0.5)\n",
       "  (6): Linear(in_features=4096, out_features=1000, bias=True)\n",
       ")"
      ]
     },
     "execution_count": 6,
     "metadata": {},
     "output_type": "execute_result"
    }
   ],
   "source": [
    "model.classifier"
   ]
  },
  {
   "cell_type": "code",
   "execution_count": 7,
   "metadata": {},
   "outputs": [
    {
     "name": "stdout",
     "output_type": "stream",
     "text": [
      "Sequential(\n",
      "  (0): Linear(in_features=25088, out_features=4096, bias=True)\n",
      "  (1): ReLU(inplace)\n",
      "  (2): Dropout(p=0.5)\n",
      "  (3): Linear(in_features=4096, out_features=4096, bias=True)\n",
      "  (4): ReLU(inplace)\n",
      "  (5): Dropout(p=0.5)\n",
      "  (6): Linear(in_features=4096, out_features=4, bias=True)\n",
      ")\n"
     ]
    }
   ],
   "source": [
    "import torch.nn as nn\n",
    "\n",
    "n_classes = 4 ## Number of classes in our rice dataset\n",
    "\n",
    "n_inputs = model.classifier[-1].in_features\n",
    "last_layer = nn.Linear(n_inputs,n_classes)\n",
    "model.classifier[-1] = last_layer\n",
    "# if GPU is available, move the model to GPU\n",
    "if train_on_gpu:\n",
    "    model.cuda()\n",
    "# check to see that your last layer produces the expected number of outputs\n",
    "print(model.classifier)"
   ]
  },
  {
   "cell_type": "code",
   "execution_count": 8,
   "metadata": {},
   "outputs": [],
   "source": [
    "import torch.optim as optim\n",
    "# specify loss function (categorical cross-entropy)\n",
    "criterion = nn.CrossEntropyLoss()\n",
    "# specify optimizer and learning rate\n",
    "optimizer = optim.Adam(model.classifier.parameters(), lr=0.001)"
   ]
  },
  {
   "cell_type": "code",
   "execution_count": 9,
   "metadata": {},
   "outputs": [],
   "source": [
    "## function to train the network\n",
    "def train(model, device, train_loader, optimizer, criterion, epoch):\n",
    "    model.train()\n",
    "    train_loss = 0\n",
    "    correct = 0\n",
    "    for batch_idx, (data, target) in enumerate(train_loader):\n",
    "        data, target = data.to(device), target.to(device)\n",
    "        optimizer.zero_grad()\n",
    "        output = model(data)\n",
    "        loss = criterion(output, target)\n",
    "        loss.backward()\n",
    "        optimizer.step()\n",
    "        train_loss += loss.item()\n",
    "        pred = output.max(1, keepdim=True)[1] # get the index of the max log-probability\n",
    "        correct += pred.eq(target.view_as(pred)).sum().item()\n",
    "        \n",
    "    train_loss /= len(train_loader.dataset)\n",
    "    print('Epoch: {} , Training Accuracy: {}/{} ({:.0f}%) Training Loss: {:.6f}'.format(\n",
    "                epoch, correct, len(train_loader.dataset),\n",
    "                100. * correct / len(train_loader.dataset), train_loss))\n",
    "\n",
    "## function to train the network\n",
    "def test(model, device, criterion, test_loader):\n",
    "    model.eval()\n",
    "    test_loss = 0\n",
    "    correct = 0\n",
    "    with torch.no_grad():\n",
    "        for data, target in test_loader:\n",
    "            data, target = data.to(device), target.to(device)\n",
    "            output = model(data)\n",
    "            test_loss += criterion(output, target).item()\n",
    "            pred = output.max(1, keepdim=True)[1] # get the index of the max log-probability\n",
    "            correct += pred.eq(target.view_as(pred)).sum().item()\n",
    "\n",
    "    test_loss /= len(test_loader.dataset)\n",
    "\n",
    "    print('Test loss: {:.4f}, Test Accuracy: {}/{} ({:.0f}%)\\n'.format(\n",
    "        test_loss, correct, len(test_loader.dataset),\n",
    "        100. * correct / len(test_loader.dataset)))"
   ]
  },
  {
   "cell_type": "code",
   "execution_count": 10,
   "metadata": {},
   "outputs": [
    {
     "name": "stdout",
     "output_type": "stream",
     "text": [
      "Start training\n",
      "Epoch: 1 , Training Accuracy: 92/348 (26%) Training Loss: 0.079457\n",
      "Test loss: 0.0206, Test Accuracy: 20/80 (25%)\n",
      "\n",
      "\n",
      "\n",
      "Epoch: 2 , Training Accuracy: 126/348 (36%) Training Loss: 0.016900\n",
      "Test loss: 0.0179, Test Accuracy: 20/80 (25%)\n",
      "\n",
      "\n",
      "\n",
      "Epoch: 3 , Training Accuracy: 128/348 (37%) Training Loss: 0.015402\n",
      "Test loss: 0.0179, Test Accuracy: 20/80 (25%)\n",
      "\n",
      "\n",
      "\n",
      "Epoch: 4 , Training Accuracy: 150/348 (43%) Training Loss: 0.014901\n",
      "Test loss: 0.0176, Test Accuracy: 20/80 (25%)\n",
      "\n",
      "\n",
      "\n",
      "Epoch: 5 , Training Accuracy: 148/348 (43%) Training Loss: 0.014841\n",
      "Test loss: 0.0177, Test Accuracy: 20/80 (25%)\n",
      "\n",
      "\n",
      "\n",
      "Epoch: 6 , Training Accuracy: 150/348 (43%) Training Loss: 0.014697\n",
      "Test loss: 0.0174, Test Accuracy: 20/80 (25%)\n",
      "\n",
      "\n",
      "\n",
      "Epoch: 7 , Training Accuracy: 151/348 (43%) Training Loss: 0.014340\n",
      "Test loss: 0.0168, Test Accuracy: 20/80 (25%)\n",
      "\n",
      "\n",
      "\n",
      "Epoch: 8 , Training Accuracy: 150/348 (43%) Training Loss: 0.014001\n",
      "Test loss: 0.0158, Test Accuracy: 21/80 (26%)\n",
      "\n",
      "\n",
      "\n",
      "Epoch: 9 , Training Accuracy: 182/348 (52%) Training Loss: 0.013323\n",
      "Test loss: 0.0152, Test Accuracy: 26/80 (32%)\n",
      "\n",
      "\n",
      "\n",
      "Epoch: 10 , Training Accuracy: 167/348 (48%) Training Loss: 0.012595\n",
      "Test loss: 0.0135, Test Accuracy: 44/80 (55%)\n",
      "\n",
      "\n",
      "\n",
      "Epoch: 11 , Training Accuracy: 207/348 (59%) Training Loss: 0.011890\n",
      "Test loss: 0.0116, Test Accuracy: 49/80 (61%)\n",
      "\n",
      "\n",
      "\n",
      "Epoch: 12 , Training Accuracy: 233/348 (67%) Training Loss: 0.010512\n",
      "Test loss: 0.0104, Test Accuracy: 51/80 (64%)\n",
      "\n",
      "\n",
      "\n",
      "Epoch: 13 , Training Accuracy: 234/348 (67%) Training Loss: 0.009949\n",
      "Test loss: 0.0096, Test Accuracy: 52/80 (65%)\n",
      "\n",
      "\n",
      "\n",
      "Epoch: 14 , Training Accuracy: 237/348 (68%) Training Loss: 0.009060\n",
      "Test loss: 0.0095, Test Accuracy: 52/80 (65%)\n",
      "\n",
      "\n",
      "\n",
      "Epoch: 15 , Training Accuracy: 241/348 (69%) Training Loss: 0.009368\n",
      "Test loss: 0.0085, Test Accuracy: 53/80 (66%)\n",
      "\n",
      "\n",
      "\n",
      "Epoch: 16 , Training Accuracy: 232/348 (67%) Training Loss: 0.008733\n",
      "Test loss: 0.0103, Test Accuracy: 48/80 (60%)\n",
      "\n",
      "\n",
      "\n",
      "Epoch: 17 , Training Accuracy: 231/348 (66%) Training Loss: 0.009044\n",
      "Test loss: 0.0084, Test Accuracy: 54/80 (68%)\n",
      "\n",
      "\n",
      "\n",
      "Epoch: 18 , Training Accuracy: 243/348 (70%) Training Loss: 0.008209\n",
      "Test loss: 0.0090, Test Accuracy: 51/80 (64%)\n",
      "\n",
      "\n",
      "\n",
      "Epoch: 19 , Training Accuracy: 240/348 (69%) Training Loss: 0.009010\n",
      "Test loss: 0.0094, Test Accuracy: 51/80 (64%)\n",
      "\n",
      "\n",
      "\n",
      "Epoch: 20 , Training Accuracy: 246/348 (71%) Training Loss: 0.008025\n",
      "Test loss: 0.0089, Test Accuracy: 52/80 (65%)\n",
      "\n",
      "\n",
      "\n",
      "Epoch: 21 , Training Accuracy: 244/348 (70%) Training Loss: 0.007737\n",
      "Test loss: 0.0080, Test Accuracy: 54/80 (68%)\n",
      "\n",
      "\n",
      "\n",
      "Epoch: 22 , Training Accuracy: 245/348 (70%) Training Loss: 0.007749\n",
      "Test loss: 0.0099, Test Accuracy: 50/80 (62%)\n",
      "\n",
      "\n",
      "\n",
      "Epoch: 23 , Training Accuracy: 254/348 (73%) Training Loss: 0.007373\n",
      "Test loss: 0.0083, Test Accuracy: 53/80 (66%)\n",
      "\n",
      "\n",
      "\n",
      "Epoch: 24 , Training Accuracy: 257/348 (74%) Training Loss: 0.007831\n",
      "Test loss: 0.0078, Test Accuracy: 61/80 (76%)\n",
      "\n",
      "\n",
      "\n",
      "Epoch: 25 , Training Accuracy: 261/348 (75%) Training Loss: 0.007039\n",
      "Test loss: 0.0081, Test Accuracy: 60/80 (75%)\n",
      "\n",
      "\n",
      "\n",
      "Epoch: 26 , Training Accuracy: 273/348 (78%) Training Loss: 0.006824\n",
      "Test loss: 0.0080, Test Accuracy: 55/80 (69%)\n",
      "\n",
      "\n",
      "\n",
      "Epoch: 27 , Training Accuracy: 271/348 (78%) Training Loss: 0.006617\n",
      "Test loss: 0.0072, Test Accuracy: 60/80 (75%)\n",
      "\n",
      "\n",
      "\n",
      "Epoch: 28 , Training Accuracy: 264/348 (76%) Training Loss: 0.006946\n",
      "Test loss: 0.0078, Test Accuracy: 58/80 (72%)\n",
      "\n",
      "\n",
      "\n",
      "Epoch: 29 , Training Accuracy: 287/348 (82%) Training Loss: 0.006264\n",
      "Test loss: 0.0074, Test Accuracy: 60/80 (75%)\n",
      "\n",
      "\n",
      "\n",
      "Epoch: 30 , Training Accuracy: 273/348 (78%) Training Loss: 0.005957\n",
      "Test loss: 0.0082, Test Accuracy: 56/80 (70%)\n",
      "\n",
      "\n",
      "\n",
      "Done training\n"
     ]
    }
   ],
   "source": [
    "# number of epochs to train the model\n",
    "n_epochs = 30\n",
    "\n",
    "print (\"Start training\")\n",
    "\n",
    "for epoch in range(1, n_epochs+1):\n",
    "    \n",
    "    train (model, device, train_loader, optimizer, criterion, epoch)\n",
    "    test (model, device, criterion, test_loader)\n",
    "    \n",
    "    print ('\\n')\n",
    "            \n",
    "print (\"Done training\")"
   ]
  },
  {
   "cell_type": "code",
   "execution_count": 11,
   "metadata": {},
   "outputs": [
    {
     "name": "stdout",
     "output_type": "stream",
     "text": [
      "Accuracy of the network on the test images: 70 %\n"
     ]
    }
   ],
   "source": [
    "correct = 0\n",
    "total = 0\n",
    "with torch.no_grad():\n",
    "    for data in test_loader:\n",
    "        images, labels = data\n",
    "        if train_on_gpu:\n",
    "            images, labels = images.cuda(), labels.cuda()\n",
    "        outputs = model(images)\n",
    "        _, predicted = torch.max(outputs.data, 1)\n",
    "        total += labels.size(0)\n",
    "        correct += (predicted == labels).sum().item()\n",
    "print('Accuracy of the network on the test images: %d %%' % (\n",
    "    100 * correct / total))"
   ]
  },
  {
   "cell_type": "code",
   "execution_count": 12,
   "metadata": {},
   "outputs": [],
   "source": [
    "torch.save(model.state_dict(), 'n1.pwf')"
   ]
  },
  {
   "cell_type": "code",
   "execution_count": null,
   "metadata": {},
   "outputs": [],
   "source": []
  }
 ],
 "metadata": {
  "kernelspec": {
   "display_name": "Python 3",
   "language": "python",
   "name": "python3"
  },
  "language_info": {
   "codemirror_mode": {
    "name": "ipython",
    "version": 3
   },
   "file_extension": ".py",
   "mimetype": "text/x-python",
   "name": "python",
   "nbconvert_exporter": "python",
   "pygments_lexer": "ipython3",
   "version": "3.7.3"
  }
 },
 "nbformat": 4,
 "nbformat_minor": 2
}
