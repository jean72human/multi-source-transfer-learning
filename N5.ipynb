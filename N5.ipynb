{
 "cells": [
  {
   "cell_type": "code",
   "execution_count": 1,
   "metadata": {},
   "outputs": [],
   "source": [
    "# N5 (Ensemble) : Food-256 | Food-101 | Rice dataset"
   ]
  },
  {
   "cell_type": "code",
   "execution_count": 2,
   "metadata": {},
   "outputs": [],
   "source": [
    "## imports\n",
    "import os\n",
    "import numpy as np\n",
    "import torch\n",
    "import torchvision\n",
    "from torchvision import datasets, models, transforms\n",
    "import matplotlib.pyplot as plt\n",
    "import torch.nn as nn\n",
    "%matplotlib inline"
   ]
  },
  {
   "cell_type": "code",
   "execution_count": 3,
   "metadata": {},
   "outputs": [
    {
     "name": "stdout",
     "output_type": "stream",
     "text": [
      "CUDA is available!  Training on GPU ...\n"
     ]
    }
   ],
   "source": [
    "# check if CUDA is available\n",
    "train_on_gpu = torch.cuda.is_available()\n",
    "device = 'cpu'\n",
    "if not train_on_gpu:\n",
    "    print('CUDA is not available.  Training on CPU ...')\n",
    "else:\n",
    "    print('CUDA is available!  Training on GPU ...')\n",
    "    device = 'cuda'"
   ]
  },
  {
   "cell_type": "code",
   "execution_count": 4,
   "metadata": {},
   "outputs": [],
   "source": [
    "## function to train the network\n",
    "def train(model, device, train_loader, optimizer, criterion, epoch):\n",
    "    model.train()\n",
    "    train_loss = 0\n",
    "    correct = 0\n",
    "    for batch_idx, (data, target) in enumerate(train_loader):\n",
    "        data, target = data.to(device), target.to(device)\n",
    "        optimizer.zero_grad()\n",
    "        output = model(data)\n",
    "        loss = criterion(output, target)\n",
    "        loss.backward()\n",
    "        optimizer.step()\n",
    "        train_loss += loss.item()\n",
    "        pred = output.max(1, keepdim=True)[1] # get the index of the max log-probability\n",
    "        correct += pred.eq(target.view_as(pred)).sum().item()\n",
    "        \n",
    "    train_loss /= len(train_loader.dataset)\n",
    "    print('Epoch: {} , Training Accuracy: {}/{} ({:.0f}%) Training Loss: {:.6f}'.format(\n",
    "                epoch, correct, len(train_loader.dataset),\n",
    "                100. * correct / len(train_loader.dataset), train_loss))\n",
    "\n",
    "## function to train the network\n",
    "def test(model, device, criterion, test_loader):\n",
    "    model.eval()\n",
    "    test_loss = 0\n",
    "    correct = 0\n",
    "    with torch.no_grad():\n",
    "        for data, target in test_loader:\n",
    "            data, target = data.to(device), target.to(device)\n",
    "            output = model(data)\n",
    "            test_loss += criterion(output, target).item()\n",
    "            pred = output.max(1, keepdim=True)[1] # get the index of the max log-probability\n",
    "            correct += pred.eq(target.view_as(pred)).sum().item()\n",
    "\n",
    "    test_loss /= len(test_loader.dataset)\n",
    "\n",
    "    print('Test loss: {:.4f}, Test Accuracy: {}/{} ({:.0f}%)\\n'.format(\n",
    "        test_loss, correct, len(test_loader.dataset),\n",
    "        100. * correct / len(test_loader.dataset)))"
   ]
  },
  {
   "cell_type": "code",
   "execution_count": 5,
   "metadata": {},
   "outputs": [],
   "source": [
    "data_transform =  transforms.Compose([\n",
    "    transforms.Resize(250),\n",
    "    transforms.CenterCrop(224),\n",
    "    transforms.ToTensor(),\n",
    "    transforms.Normalize([0.485, 0.456, 0.406], [0.229, 0.224, 0.225])\n",
    "])"
   ]
  },
  {
   "cell_type": "code",
   "execution_count": 6,
   "metadata": {},
   "outputs": [],
   "source": [
    "def loadN(path,n_classes):\n",
    "    \n",
    "    \"\"\"\n",
    "    Function to load VGG pretrained models\n",
    "    \"\"\"\n",
    "    model = models.vgg19(pretrained=False)\n",
    "    n_inputs = model.classifier[-1].in_features\n",
    "    last_layer = nn.Linear(n_inputs,n_classes)\n",
    "    model.classifier[-1] = last_layer\n",
    "    model.load_state_dict(torch.load(path, map_location=device), strict=False)\n",
    "    # if GPU is available, move the model to GPU\n",
    "    if train_on_gpu:\n",
    "        model.cuda()\n",
    "    # check to see that your last layer produces the expected number of outputs\n",
    "    return model"
   ]
  },
  {
   "cell_type": "code",
   "execution_count": 7,
   "metadata": {},
   "outputs": [
    {
     "data": {
      "text/plain": [
       "Sequential(\n",
       "  (0): Linear(in_features=25088, out_features=4096, bias=True)\n",
       "  (1): ReLU(inplace)\n",
       "  (2): Dropout(p=0.5)\n",
       "  (3): Linear(in_features=4096, out_features=4096, bias=True)\n",
       "  (4): ReLU(inplace)\n",
       "  (5): Dropout(p=0.5)\n",
       "  (6): Linear(in_features=4096, out_features=101, bias=True)\n",
       ")"
      ]
     },
     "execution_count": 7,
     "metadata": {},
     "output_type": "execute_result"
    }
   ],
   "source": [
    "food101trained = loadN('food-101-trained.pwf',101)\n",
    "food101trained.classifier"
   ]
  },
  {
   "cell_type": "code",
   "execution_count": 8,
   "metadata": {},
   "outputs": [
    {
     "data": {
      "text/plain": [
       "Sequential(\n",
       "  (0): Linear(in_features=25088, out_features=4096, bias=True)\n",
       "  (1): ReLU(inplace)\n",
       "  (2): Dropout(p=0.5)\n",
       "  (3): Linear(in_features=4096, out_features=4096, bias=True)\n",
       "  (4): ReLU(inplace)\n",
       "  (5): Dropout(p=0.5)\n",
       "  (6): Linear(in_features=4096, out_features=256, bias=True)\n",
       ")"
      ]
     },
     "execution_count": 8,
     "metadata": {},
     "output_type": "execute_result"
    }
   ],
   "source": [
    "food256trained = loadN('food-256-trained.pwf',256)\n",
    "food256trained.classifier"
   ]
  },
  {
   "cell_type": "code",
   "execution_count": 9,
   "metadata": {},
   "outputs": [],
   "source": [
    "#vgg = models.vgg19(pretrained=False)\n",
    "#vgg"
   ]
  },
  {
   "cell_type": "code",
   "execution_count": 10,
   "metadata": {},
   "outputs": [],
   "source": [
    "class N5(nn.Module):\n",
    "    def __init__(self, modelA, modelB):\n",
    "        super(N5, self).__init__()\n",
    "        \n",
    "        self.modelA = modelA\n",
    "        for param in self.modelA:\n",
    "            param.requires_grad = False\n",
    "            \n",
    "        self.modelB = modelB\n",
    "        for param in self.modelB:\n",
    "            param.requires_grad = False\n",
    "            \n",
    "        self.classifier = nn.Sequential(\n",
    "            nn.Linear(50176,4096),\n",
    "            nn.ReLU(),\n",
    "            nn.Linear(4096,4)\n",
    "        )\n",
    "        \n",
    "    def flatten(self, dim, data):\n",
    "        data = data.transpose(dim, -1).contiguous()\n",
    "        return data.view(-1, data.size(-1)).t()\n",
    "    \n",
    "    def forward(self, x):\n",
    "        xA = self.modelA(x)\n",
    "        xA = self.flatten(0, xA)\n",
    "        xB = self.modelA(x)\n",
    "        xB = self.flatten(0, xB)\n",
    "        \n",
    "        x_all = torch.cat([xA, xB], dim=1)   \n",
    "        \n",
    "        pred = self.classifier(nn.functional.relu(x_all))\n",
    "        \n",
    "        return pred\n",
    "        "
   ]
  },
  {
   "cell_type": "code",
   "execution_count": 11,
   "metadata": {},
   "outputs": [],
   "source": [
    "model = N5(food101trained.features, food256trained.features)\n",
    "if train_on_gpu:\n",
    "    model.cuda()"
   ]
  },
  {
   "cell_type": "code",
   "execution_count": 12,
   "metadata": {},
   "outputs": [
    {
     "name": "stdout",
     "output_type": "stream",
     "text": [
      "428 images\n"
     ]
    }
   ],
   "source": [
    "\n",
    "data_dir = 'D://Datasets//RICE_DATASET//'\n",
    "batch_size = 1\n",
    "num_workers = 0\n",
    "\n",
    "\n",
    "train_data = datasets.ImageFolder(\n",
    "        data_dir+'training_data', \n",
    "        transform=data_transform)\n",
    "\n",
    "test_data = datasets.ImageFolder(\n",
    "        data_dir+'test_data', \n",
    "        transform=data_transform)\n",
    "\n",
    "\n",
    "print(len(train_data)+len(test_data),\"images\")\n",
    "# prepare data loaders\n",
    "train_loader = torch.utils.data.DataLoader(train_data, batch_size=batch_size, \n",
    "                                           num_workers=num_workers, shuffle=True)\n",
    "test_loader = torch.utils.data.DataLoader(test_data, batch_size=batch_size, \n",
    "                                          num_workers=num_workers, shuffle=True)\n"
   ]
  },
  {
   "cell_type": "code",
   "execution_count": 13,
   "metadata": {},
   "outputs": [],
   "source": [
    "import torch.optim as optim\n",
    "# specify loss function (categorical cross-entropy)\n",
    "criterion = nn.CrossEntropyLoss()\n",
    "# specify optimizer and learning rate\n",
    "optimizer = optim.Adam(model.classifier.parameters(), lr=0.0001)"
   ]
  },
  {
   "cell_type": "code",
   "execution_count": 14,
   "metadata": {},
   "outputs": [
    {
     "name": "stdout",
     "output_type": "stream",
     "text": [
      "Start training\n",
      "Epoch: 1 , Training Accuracy: 269/348 (77%) Training Loss: 1.415750\n",
      "Test loss: 1.1222, Test Accuracy: 59/80 (74%)\n",
      "\n",
      "\n",
      "\n",
      "Epoch: 2 , Training Accuracy: 323/348 (93%) Training Loss: 0.283595\n",
      "Test loss: 1.3066, Test Accuracy: 60/80 (75%)\n",
      "\n",
      "\n",
      "\n",
      "Epoch: 3 , Training Accuracy: 347/348 (100%) Training Loss: 0.029455\n",
      "Test loss: 0.7729, Test Accuracy: 64/80 (80%)\n",
      "\n",
      "\n",
      "\n",
      "Epoch: 4 , Training Accuracy: 348/348 (100%) Training Loss: 0.000144\n",
      "Test loss: 0.7892, Test Accuracy: 64/80 (80%)\n",
      "\n",
      "\n",
      "\n",
      "Epoch: 5 , Training Accuracy: 348/348 (100%) Training Loss: 0.000053\n",
      "Test loss: 0.7493, Test Accuracy: 64/80 (80%)\n",
      "\n",
      "\n",
      "\n",
      "Epoch: 6 , Training Accuracy: 348/348 (100%) Training Loss: 0.000028\n",
      "Test loss: 0.7474, Test Accuracy: 64/80 (80%)\n",
      "\n",
      "\n",
      "\n",
      "Epoch: 7 , Training Accuracy: 348/348 (100%) Training Loss: 0.000015\n",
      "Test loss: 0.6916, Test Accuracy: 66/80 (82%)\n",
      "\n",
      "\n",
      "\n",
      "Epoch: 8 , Training Accuracy: 348/348 (100%) Training Loss: 0.000009\n",
      "Test loss: 0.7060, Test Accuracy: 64/80 (80%)\n",
      "\n",
      "\n",
      "\n",
      "Epoch: 9 , Training Accuracy: 348/348 (100%) Training Loss: 0.000006\n",
      "Test loss: 0.6992, Test Accuracy: 65/80 (81%)\n",
      "\n",
      "\n",
      "\n",
      "Epoch: 10 , Training Accuracy: 348/348 (100%) Training Loss: 0.000004\n",
      "Test loss: 0.6849, Test Accuracy: 65/80 (81%)\n",
      "\n",
      "\n",
      "\n",
      "Epoch: 11 , Training Accuracy: 348/348 (100%) Training Loss: 0.000003\n",
      "Test loss: 0.6830, Test Accuracy: 65/80 (81%)\n",
      "\n",
      "\n",
      "\n",
      "Epoch: 12 , Training Accuracy: 348/348 (100%) Training Loss: 0.000002\n",
      "Test loss: 0.6738, Test Accuracy: 65/80 (81%)\n",
      "\n",
      "\n",
      "\n",
      "Epoch: 13 , Training Accuracy: 348/348 (100%) Training Loss: 0.000002\n",
      "Test loss: 0.6914, Test Accuracy: 64/80 (80%)\n",
      "\n",
      "\n",
      "\n",
      "Epoch: 14 , Training Accuracy: 348/348 (100%) Training Loss: 0.000001\n",
      "Test loss: 0.6733, Test Accuracy: 65/80 (81%)\n",
      "\n",
      "\n",
      "\n",
      "Epoch: 15 , Training Accuracy: 348/348 (100%) Training Loss: 0.000001\n",
      "Test loss: 0.6794, Test Accuracy: 65/80 (81%)\n",
      "\n",
      "\n",
      "\n",
      "Epoch: 16 , Training Accuracy: 348/348 (100%) Training Loss: 0.000001\n",
      "Test loss: 0.6880, Test Accuracy: 65/80 (81%)\n",
      "\n",
      "\n",
      "\n",
      "Epoch: 17 , Training Accuracy: 348/348 (100%) Training Loss: 0.000001\n",
      "Test loss: 0.6905, Test Accuracy: 65/80 (81%)\n",
      "\n",
      "\n",
      "\n",
      "Epoch: 18 , Training Accuracy: 348/348 (100%) Training Loss: 0.000000\n",
      "Test loss: 0.6936, Test Accuracy: 65/80 (81%)\n",
      "\n",
      "\n",
      "\n",
      "Epoch: 19 , Training Accuracy: 348/348 (100%) Training Loss: 0.000000\n",
      "Test loss: 0.6992, Test Accuracy: 65/80 (81%)\n",
      "\n",
      "\n",
      "\n",
      "Epoch: 20 , Training Accuracy: 348/348 (100%) Training Loss: 0.000000\n",
      "Test loss: 0.7067, Test Accuracy: 64/80 (80%)\n",
      "\n",
      "\n",
      "\n",
      "Epoch: 21 , Training Accuracy: 348/348 (100%) Training Loss: 0.000000\n",
      "Test loss: 0.7016, Test Accuracy: 65/80 (81%)\n",
      "\n",
      "\n",
      "\n",
      "Epoch: 22 , Training Accuracy: 348/348 (100%) Training Loss: 0.000000\n",
      "Test loss: 0.7160, Test Accuracy: 64/80 (80%)\n",
      "\n",
      "\n",
      "\n",
      "Epoch: 23 , Training Accuracy: 348/348 (100%) Training Loss: 0.000000\n",
      "Test loss: 0.7149, Test Accuracy: 64/80 (80%)\n",
      "\n",
      "\n",
      "\n",
      "Epoch: 24 , Training Accuracy: 348/348 (100%) Training Loss: 0.000000\n",
      "Test loss: 0.7274, Test Accuracy: 64/80 (80%)\n",
      "\n",
      "\n",
      "\n",
      "Epoch: 25 , Training Accuracy: 348/348 (100%) Training Loss: 0.000000\n",
      "Test loss: 0.7327, Test Accuracy: 64/80 (80%)\n",
      "\n",
      "\n",
      "\n",
      "Epoch: 26 , Training Accuracy: 348/348 (100%) Training Loss: 0.000000\n",
      "Test loss: 0.7283, Test Accuracy: 64/80 (80%)\n",
      "\n",
      "\n",
      "\n",
      "Epoch: 27 , Training Accuracy: 348/348 (100%) Training Loss: 0.000000\n",
      "Test loss: 0.7390, Test Accuracy: 64/80 (80%)\n",
      "\n",
      "\n",
      "\n",
      "Epoch: 28 , Training Accuracy: 348/348 (100%) Training Loss: 0.000000\n",
      "Test loss: 0.7474, Test Accuracy: 64/80 (80%)\n",
      "\n",
      "\n",
      "\n",
      "Epoch: 29 , Training Accuracy: 348/348 (100%) Training Loss: 0.000000\n",
      "Test loss: 0.7509, Test Accuracy: 64/80 (80%)\n",
      "\n",
      "\n",
      "\n",
      "Epoch: 30 , Training Accuracy: 348/348 (100%) Training Loss: 0.000000\n",
      "Test loss: 0.7509, Test Accuracy: 64/80 (80%)\n",
      "\n",
      "\n",
      "\n",
      "Done training\n"
     ]
    }
   ],
   "source": [
    "# number of epochs to train the model\n",
    "n_epochs = 30\n",
    "\n",
    "print (\"Start training\")\n",
    "\n",
    "for epoch in range(1, n_epochs+1):\n",
    "    \n",
    "    train (model, device, train_loader, optimizer, criterion, epoch)\n",
    "    test (model, device, criterion, test_loader)\n",
    "    \n",
    "    print ('\\n')\n",
    "            \n",
    "print (\"Done training\")"
   ]
  },
  {
   "cell_type": "code",
   "execution_count": 15,
   "metadata": {},
   "outputs": [
    {
     "name": "stdout",
     "output_type": "stream",
     "text": [
      "Accuracy of the network on the test images: 80 %\n"
     ]
    }
   ],
   "source": [
    "correct = 0\n",
    "total = 0\n",
    "with torch.no_grad():\n",
    "    for data in test_loader:\n",
    "        images, labels = data\n",
    "        if train_on_gpu:\n",
    "            images, labels = images.cuda(), labels.cuda()\n",
    "        outputs = model(images)\n",
    "        _, predicted = torch.max(outputs.data, 1)\n",
    "        total += labels.size(0)\n",
    "        correct += (predicted == labels).sum().item()\n",
    "print('Accuracy of the network on the test images: %d %%' % (\n",
    "    100 * correct / total))"
   ]
  },
  {
   "cell_type": "code",
   "execution_count": 16,
   "metadata": {},
   "outputs": [],
   "source": [
    "torch.save(model.state_dict(), 'newN5.pwf')"
   ]
  },
  {
   "cell_type": "code",
   "execution_count": null,
   "metadata": {},
   "outputs": [],
   "source": []
  }
 ],
 "metadata": {
  "kernelspec": {
   "display_name": "Python 3",
   "language": "python",
   "name": "python3"
  },
  "language_info": {
   "codemirror_mode": {
    "name": "ipython",
    "version": 3
   },
   "file_extension": ".py",
   "mimetype": "text/x-python",
   "name": "python",
   "nbconvert_exporter": "python",
   "pygments_lexer": "ipython3",
   "version": "3.7.3"
  }
 },
 "nbformat": 4,
 "nbformat_minor": 2
}
