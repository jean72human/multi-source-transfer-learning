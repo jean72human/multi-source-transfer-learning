{
 "cells": [
  {
   "cell_type": "code",
   "execution_count": 16,
   "metadata": {},
   "outputs": [],
   "source": [
    "# N1 : ImageNet | Food-256 | Rice dataset"
   ]
  },
  {
   "cell_type": "code",
   "execution_count": 17,
   "metadata": {},
   "outputs": [],
   "source": [
    "## imports\n",
    "import os\n",
    "import numpy as np\n",
    "import torch\n",
    "import torchvision\n",
    "from torchvision import datasets, models, transforms\n",
    "import matplotlib.pyplot as plt\n",
    "%matplotlib inline"
   ]
  },
  {
   "cell_type": "code",
   "execution_count": 18,
   "metadata": {},
   "outputs": [
    {
     "name": "stdout",
     "output_type": "stream",
     "text": [
      "CUDA is available!  Training on GPU ...\n"
     ]
    }
   ],
   "source": [
    "# check if CUDA is available\n",
    "train_on_gpu = torch.cuda.is_available()\n",
    "device = 'cpu'\n",
    "if not train_on_gpu:\n",
    "    print('CUDA is not available.  Training on CPU ...')\n",
    "else:\n",
    "    print('CUDA is available!  Training on GPU ...')\n",
    "    device = 'cuda'"
   ]
  },
  {
   "cell_type": "code",
   "execution_count": 19,
   "metadata": {},
   "outputs": [],
   "source": [
    "## function to train the network\n",
    "def train(model, device, train_loader, optimizer, criterion, epoch):\n",
    "    model.train()\n",
    "    train_loss = 0\n",
    "    correct = 0\n",
    "    for batch_idx, (data, target) in enumerate(train_loader):\n",
    "        data, target = data.to(device), target.to(device)\n",
    "        optimizer.zero_grad()\n",
    "        output = model(data)\n",
    "        loss = criterion(output, target)\n",
    "        loss.backward()\n",
    "        optimizer.step()\n",
    "        train_loss += loss.item()\n",
    "        pred = output.max(1, keepdim=True)[1] # get the index of the max log-probability\n",
    "        correct += pred.eq(target.view_as(pred)).sum().item()\n",
    "        \n",
    "    train_loss /= len(train_loader.dataset)\n",
    "    print('Epoch: {} , Training Accuracy: {}/{} ({:.0f}%) Training Loss: {:.6f}'.format(\n",
    "                epoch, correct, len(train_loader.dataset),\n",
    "                100. * correct / len(train_loader.dataset), train_loss))\n",
    "\n",
    "## function to train the network\n",
    "def test(model, device, criterion, test_loader):\n",
    "    model.eval()\n",
    "    test_loss = 0\n",
    "    correct = 0\n",
    "    with torch.no_grad():\n",
    "        for data, target in test_loader:\n",
    "            data, target = data.to(device), target.to(device)\n",
    "            output = model(data)\n",
    "            test_loss += criterion(output, target).item()\n",
    "            pred = output.max(1, keepdim=True)[1] # get the index of the max log-probability\n",
    "            correct += pred.eq(target.view_as(pred)).sum().item()\n",
    "\n",
    "    test_loss /= len(test_loader.dataset)\n",
    "\n",
    "    print('Test loss: {:.4f}, Test Accuracy: {}/{} ({:.0f}%)\\n'.format(\n",
    "        test_loss, correct, len(test_loader.dataset),\n",
    "        100. * correct / len(test_loader.dataset)))"
   ]
  },
  {
   "cell_type": "code",
   "execution_count": 20,
   "metadata": {},
   "outputs": [],
   "source": [
    "data_transform =  transforms.Compose([\n",
    "    transforms.Resize(256),\n",
    "    transforms.CenterCrop(224),\n",
    "    transforms.ToTensor(),\n",
    "    transforms.Normalize([0.485, 0.456, 0.406], [0.229, 0.224, 0.225])\n",
    "])"
   ]
  },
  {
   "cell_type": "code",
   "execution_count": 21,
   "metadata": {},
   "outputs": [],
   "source": [
    "model = models.vgg19(pretrained=True)\n",
    "#print(model)"
   ]
  },
  {
   "cell_type": "markdown",
   "metadata": {},
   "source": [
    "### FOOD-101"
   ]
  },
  {
   "cell_type": "code",
   "execution_count": 22,
   "metadata": {},
   "outputs": [
    {
     "name": "stdout",
     "output_type": "stream",
     "text": [
      "31395 images\n"
     ]
    }
   ],
   "source": [
    "\n",
    "\n",
    "data_dir = '/floyd/input/food_256'\n",
    "batch_size = 100\n",
    "num_workers = 0\n",
    "dataset = datasets.ImageFolder(\n",
    "        data_dir, \n",
    "        transform=data_transform)\n",
    "print(len(dataset),\"images\")\n",
    "## split data between train and test. Total of 101,000 images \n",
    "## we use 100,000 for aining and 1,000 for testing\n",
    "train_data,test_data=torch.utils.data.random_split(dataset,(30000,1395))\n",
    "# prepare data loaders\n",
    "train_loader = torch.utils.data.DataLoader(train_data, batch_size=batch_size, \n",
    "                                           num_workers=num_workers, shuffle=True)\n",
    "test_loader = torch.utils.data.DataLoader(test_data, batch_size=batch_size, \n",
    "                                          num_workers=num_workers, shuffle=True)\n",
    "\n"
   ]
  },
  {
   "cell_type": "code",
   "execution_count": 23,
   "metadata": {},
   "outputs": [
    {
     "data": {
      "text/plain": [
       "Sequential(\n",
       "  (0): Linear(in_features=25088, out_features=4096, bias=True)\n",
       "  (1): ReLU(inplace)\n",
       "  (2): Dropout(p=0.5)\n",
       "  (3): Linear(in_features=4096, out_features=4096, bias=True)\n",
       "  (4): ReLU(inplace)\n",
       "  (5): Dropout(p=0.5)\n",
       "  (6): Linear(in_features=4096, out_features=1000, bias=True)\n",
       ")"
      ]
     },
     "execution_count": 23,
     "metadata": {},
     "output_type": "execute_result"
    }
   ],
   "source": [
    "model.classifier"
   ]
  },
  {
   "cell_type": "code",
   "execution_count": 24,
   "metadata": {},
   "outputs": [
    {
     "name": "stdout",
     "output_type": "stream",
     "text": [
      "Sequential(\n",
      "  (0): Linear(in_features=25088, out_features=4096, bias=True)\n",
      "  (1): ReLU(inplace)\n",
      "  (2): Dropout(p=0.5)\n",
      "  (3): Linear(in_features=4096, out_features=4096, bias=True)\n",
      "  (4): ReLU(inplace)\n",
      "  (5): Dropout(p=0.5)\n",
      "  (6): Linear(in_features=4096, out_features=256, bias=True)\n",
      ")\n"
     ]
    }
   ],
   "source": [
    "import torch.nn as nn\n",
    "\n",
    "n_classes = 256 ## Number of classes in our rice dataset\n",
    "\n",
    "n_inputs = model.classifier[-1].in_features\n",
    "last_layer = nn.Linear(n_inputs,n_classes)\n",
    "model.classifier[-1] = last_layer\n",
    "# if GPU is available, move the model to GPU\n",
    "if train_on_gpu:\n",
    "    model.cuda()\n",
    "# check to see that your last layer produces the expected number of outputs\n",
    "print(model.classifier)"
   ]
  },
  {
   "cell_type": "code",
   "execution_count": 25,
   "metadata": {},
   "outputs": [],
   "source": [
    "import torch.optim as optim\n",
    "# specify loss function (categorical cross-entropy)\n",
    "criterion = nn.CrossEntropyLoss()\n",
    "# specify optimizer and learning rate\n",
    "optimizer = optim.Adam(model.classifier.parameters(), lr=0.001)"
   ]
  },
  {
   "cell_type": "code",
   "execution_count": 26,
   "metadata": {},
   "outputs": [
    {
     "name": "stdout",
     "output_type": "stream",
     "text": [
      "Start training\n",
      "Epoch: 1 , Training Accuracy: 2572/30000 (9%) Training Loss: 0.046186\n",
      "Test loss: 0.0354, Test Accuracy: 329/1395 (24%)\n",
      "\n",
      "\n",
      "\n",
      "Epoch: 2 , Training Accuracy: 4911/30000 (16%) Training Loss: 0.038555\n",
      "Test loss: 0.0325, Test Accuracy: 389/1395 (28%)\n",
      "\n",
      "\n",
      "\n",
      "Epoch: 3 , Training Accuracy: 6318/30000 (21%) Training Loss: 0.035417\n",
      "Test loss: 0.0306, Test Accuracy: 406/1395 (29%)\n",
      "\n",
      "\n",
      "\n",
      "Done training\n"
     ]
    }
   ],
   "source": [
    "# number of epochs to train the model\n",
    "n_epochs = 3\n",
    "\n",
    "print (\"Start training\")\n",
    "\n",
    "for epoch in range(1, n_epochs+1):\n",
    "    \n",
    "    train (model, device, train_loader, optimizer, criterion, epoch)\n",
    "    test (model, device, criterion, test_loader)\n",
    "    \n",
    "    print ('\\n')\n",
    "            \n",
    "print (\"Done training\")"
   ]
  },
  {
   "cell_type": "code",
   "execution_count": 27,
   "metadata": {},
   "outputs": [],
   "source": [
    "torch.save(model.state_dict(), 'food-256-trained.pwf')"
   ]
  },
  {
   "cell_type": "markdown",
   "metadata": {},
   "source": [
    "### RICE DATASET"
   ]
  },
  {
   "cell_type": "code",
   "execution_count": 28,
   "metadata": {},
   "outputs": [
    {
     "name": "stdout",
     "output_type": "stream",
     "text": [
      "428 images\n"
     ]
    }
   ],
   "source": [
    "\n",
    "data_dir = '/floyd/input/rice_dataset/'\n",
    "batch_size = 100\n",
    "num_workers = 0\n",
    "\n",
    "\n",
    "train_data = datasets.ImageFolder(\n",
    "        data_dir+'training_data', \n",
    "        transform=data_transform)\n",
    "\n",
    "test_data = datasets.ImageFolder(\n",
    "        data_dir+'test_data', \n",
    "        transform=data_transform)\n",
    "\n",
    "\n",
    "print(len(train_data)+len(test_data),\"images\")\n",
    "# prepare data loaders\n",
    "train_loader = torch.utils.data.DataLoader(train_data, batch_size=batch_size, \n",
    "                                           num_workers=num_workers, shuffle=True)\n",
    "test_loader = torch.utils.data.DataLoader(test_data, batch_size=batch_size, \n",
    "                                          num_workers=num_workers, shuffle=True)\n"
   ]
  },
  {
   "cell_type": "code",
   "execution_count": 29,
   "metadata": {},
   "outputs": [
    {
     "name": "stdout",
     "output_type": "stream",
     "text": [
      "Sequential(\n",
      "  (0): Linear(in_features=25088, out_features=4096, bias=True)\n",
      "  (1): ReLU(inplace)\n",
      "  (2): Dropout(p=0.5)\n",
      "  (3): Linear(in_features=4096, out_features=4096, bias=True)\n",
      "  (4): ReLU(inplace)\n",
      "  (5): Dropout(p=0.5)\n",
      "  (6): Linear(in_features=4096, out_features=4, bias=True)\n",
      ")\n"
     ]
    }
   ],
   "source": [
    "import torch.nn as nn\n",
    "\n",
    "n_classes = 4 ## Number of classes in our rice dataset\n",
    "\n",
    "n_inputs = model.classifier[-1].in_features\n",
    "last_layer = nn.Linear(n_inputs,n_classes)\n",
    "model.classifier[-1] = last_layer\n",
    "# if GPU is available, move the model to GPU\n",
    "if train_on_gpu:\n",
    "    model.cuda()\n",
    "# check to see that your last layer produces the expected number of outputs\n",
    "print(model.classifier)"
   ]
  },
  {
   "cell_type": "code",
   "execution_count": 30,
   "metadata": {},
   "outputs": [],
   "source": [
    "import torch.optim as optim\n",
    "# specify loss function (categorical cross-entropy)\n",
    "criterion = nn.CrossEntropyLoss()\n",
    "# specify optimizer and learning rate\n",
    "optimizer = optim.Adam(model.classifier.parameters(), lr=0.001)"
   ]
  },
  {
   "cell_type": "code",
   "execution_count": null,
   "metadata": {},
   "outputs": [
    {
     "name": "stdout",
     "output_type": "stream",
     "text": [
      "Start training\n",
      "Epoch: 1 , Training Accuracy: 164/348 (47%) Training Loss: 0.013648\n",
      "Test loss: 0.0123, Test Accuracy: 47/80 (59%)\n",
      "\n",
      "\n",
      "\n",
      "Epoch: 2 , Training Accuracy: 269/348 (77%) Training Loss: 0.008007\n",
      "Test loss: 0.0086, Test Accuracy: 59/80 (74%)\n",
      "\n",
      "\n",
      "\n",
      "Epoch: 3 , Training Accuracy: 279/348 (80%) Training Loss: 0.005369\n",
      "Test loss: 0.0080, Test Accuracy: 60/80 (75%)\n",
      "\n",
      "\n",
      "\n",
      "Epoch: 4 , Training Accuracy: 319/348 (92%) Training Loss: 0.003150\n",
      "Test loss: 0.0099, Test Accuracy: 61/80 (76%)\n",
      "\n",
      "\n",
      "\n",
      "Epoch: 5 , Training Accuracy: 319/348 (92%) Training Loss: 0.002732\n",
      "Test loss: 0.0100, Test Accuracy: 61/80 (76%)\n",
      "\n",
      "\n",
      "\n",
      "Epoch: 6 , Training Accuracy: 329/348 (95%) Training Loss: 0.001775\n",
      "Test loss: 0.0100, Test Accuracy: 63/80 (79%)\n",
      "\n",
      "\n",
      "\n",
      "Epoch: 7 , Training Accuracy: 336/348 (97%) Training Loss: 0.001164\n",
      "Test loss: 0.0093, Test Accuracy: 64/80 (80%)\n",
      "\n",
      "\n",
      "\n",
      "Epoch: 8 , Training Accuracy: 332/348 (95%) Training Loss: 0.001486\n",
      "Test loss: 0.0093, Test Accuracy: 63/80 (79%)\n",
      "\n",
      "\n",
      "\n",
      "Epoch: 9 , Training Accuracy: 339/348 (97%) Training Loss: 0.000789\n",
      "Test loss: 0.0089, Test Accuracy: 67/80 (84%)\n",
      "\n",
      "\n",
      "\n",
      "Epoch: 10 , Training Accuracy: 345/348 (99%) Training Loss: 0.000498\n",
      "Test loss: 0.0094, Test Accuracy: 67/80 (84%)\n",
      "\n",
      "\n",
      "\n",
      "Epoch: 11 , Training Accuracy: 344/348 (99%) Training Loss: 0.000307\n",
      "Test loss: 0.0108, Test Accuracy: 65/80 (81%)\n",
      "\n",
      "\n",
      "\n",
      "Epoch: 12 , Training Accuracy: 344/348 (99%) Training Loss: 0.000557\n",
      "Test loss: 0.0106, Test Accuracy: 66/80 (82%)\n",
      "\n",
      "\n",
      "\n",
      "Epoch: 13 , Training Accuracy: 347/348 (100%) Training Loss: 0.000081\n",
      "Test loss: 0.0093, Test Accuracy: 67/80 (84%)\n",
      "\n",
      "\n",
      "\n",
      "Epoch: 14 , Training Accuracy: 347/348 (100%) Training Loss: 0.000108\n",
      "Test loss: 0.0094, Test Accuracy: 67/80 (84%)\n",
      "\n",
      "\n",
      "\n",
      "Epoch: 15 , Training Accuracy: 346/348 (99%) Training Loss: 0.000168\n",
      "Test loss: 0.0117, Test Accuracy: 63/80 (79%)\n",
      "\n",
      "\n",
      "\n",
      "Epoch: 16 , Training Accuracy: 346/348 (99%) Training Loss: 0.000127\n",
      "Test loss: 0.0123, Test Accuracy: 66/80 (82%)\n",
      "\n",
      "\n",
      "\n",
      "Epoch: 17 , Training Accuracy: 346/348 (99%) Training Loss: 0.000180\n",
      "Test loss: 0.0106, Test Accuracy: 69/80 (86%)\n",
      "\n",
      "\n",
      "\n",
      "Epoch: 18 , Training Accuracy: 347/348 (100%) Training Loss: 0.000255\n",
      "Test loss: 0.0092, Test Accuracy: 68/80 (85%)\n",
      "\n",
      "\n",
      "\n",
      "Epoch: 19 , Training Accuracy: 348/348 (100%) Training Loss: 0.000036\n",
      "Test loss: 0.0124, Test Accuracy: 63/80 (79%)\n",
      "\n",
      "\n",
      "\n",
      "Epoch: 20 , Training Accuracy: 347/348 (100%) Training Loss: 0.000175\n",
      "Test loss: 0.0130, Test Accuracy: 64/80 (80%)\n",
      "\n",
      "\n",
      "\n",
      "Epoch: 21 , Training Accuracy: 348/348 (100%) Training Loss: 0.000004\n",
      "Test loss: 0.0134, Test Accuracy: 67/80 (84%)\n",
      "\n",
      "\n",
      "\n",
      "Epoch: 22 , Training Accuracy: 348/348 (100%) Training Loss: 0.000018\n",
      "Test loss: 0.0167, Test Accuracy: 67/80 (84%)\n",
      "\n",
      "\n",
      "\n",
      "Epoch: 23 , Training Accuracy: 348/348 (100%) Training Loss: 0.000023\n",
      "Test loss: 0.0169, Test Accuracy: 67/80 (84%)\n",
      "\n",
      "\n",
      "\n",
      "Epoch: 24 , Training Accuracy: 348/348 (100%) Training Loss: 0.000016\n",
      "Test loss: 0.0156, Test Accuracy: 66/80 (82%)\n",
      "\n",
      "\n",
      "\n",
      "Epoch: 25 , Training Accuracy: 348/348 (100%) Training Loss: 0.000023\n",
      "Test loss: 0.0154, Test Accuracy: 67/80 (84%)\n",
      "\n",
      "\n",
      "\n",
      "Epoch: 26 , Training Accuracy: 348/348 (100%) Training Loss: 0.000001\n",
      "Test loss: 0.0167, Test Accuracy: 66/80 (82%)\n",
      "\n",
      "\n",
      "\n",
      "Epoch: 27 , Training Accuracy: 347/348 (100%) Training Loss: 0.000051\n",
      "Test loss: 0.0247, Test Accuracy: 66/80 (82%)\n",
      "\n",
      "\n",
      "\n",
      "Epoch: 28 , Training Accuracy: 347/348 (100%) Training Loss: 0.000054\n",
      "Test loss: 0.0321, Test Accuracy: 64/80 (80%)\n",
      "\n",
      "\n",
      "\n",
      "Epoch: 29 , Training Accuracy: 348/348 (100%) Training Loss: 0.000002\n"
     ]
    }
   ],
   "source": [
    "# number of epochs to train the model\n",
    "n_epochs = 30\n",
    "\n",
    "print (\"Start training\")\n",
    "\n",
    "for epoch in range(1, n_epochs+1):\n",
    "    \n",
    "    train (model, device, train_loader, optimizer, criterion, epoch)\n",
    "    test (model, device, criterion, test_loader)\n",
    "    \n",
    "    print ('\\n')\n",
    "            \n",
    "print (\"Done training\")"
   ]
  },
  {
   "cell_type": "code",
   "execution_count": null,
   "metadata": {},
   "outputs": [],
   "source": [
    "correct = 0\n",
    "total = 0\n",
    "with torch.no_grad():\n",
    "    for data in test_loader:\n",
    "        images, labels = data\n",
    "        if train_on_gpu:\n",
    "            images, labels = images.cuda(), labels.cuda()\n",
    "        outputs = model(images)\n",
    "        _, predicted = torch.max(outputs.data, 1)\n",
    "        total += labels.size(0)\n",
    "        correct += (predicted == labels).sum().item()\n",
    "print('Accuracy of the network on the test images: %d %%' % (\n",
    "    100 * correct / total))"
   ]
  },
  {
   "cell_type": "code",
   "execution_count": null,
   "metadata": {},
   "outputs": [],
   "source": [
    "torch.save(model.state_dict(), 'n4.pwf')"
   ]
  },
  {
   "cell_type": "code",
   "execution_count": null,
   "metadata": {},
   "outputs": [],
   "source": []
  }
 ],
 "metadata": {
  "kernelspec": {
   "display_name": "Python 3",
   "language": "python",
   "name": "python3"
  },
  "language_info": {
   "codemirror_mode": {
    "name": "ipython",
    "version": 3
   },
   "file_extension": ".py",
   "mimetype": "text/x-python",
   "name": "python",
   "nbconvert_exporter": "python",
   "pygments_lexer": "ipython3",
   "version": "3.7.3"
  }
 },
 "nbformat": 4,
 "nbformat_minor": 2
}
